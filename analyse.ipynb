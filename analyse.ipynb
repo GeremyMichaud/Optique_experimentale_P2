{
 "cells": [
  {
   "cell_type": "code",
   "execution_count": 18,
   "metadata": {},
   "outputs": [
    {
     "name": "stderr",
     "output_type": "stream",
     "text": [
      "[NbConvertApp] Converting notebook class_analyze.ipynb to python\n",
      "[NbConvertApp] Writing 142810 bytes to class_analyze.py\n"
     ]
    }
   ],
   "source": [
    "#! jupyter nbconvert class_analyze.ipynb --to python"
   ]
  },
  {
   "cell_type": "code",
   "execution_count": 16,
   "metadata": {},
   "outputs": [
    {
     "ename": "NameError",
     "evalue": "name 'Calibration' is not defined",
     "output_type": "error",
     "traceback": [
      "\u001b[1;31m---------------------------------------------------------------------------\u001b[0m",
      "\u001b[1;31mNameError\u001b[0m                                 Traceback (most recent call last)",
      "\u001b[1;32mC:\\Users\\GRMY~1\\AppData\\Local\\Temp/ipykernel_9044/273567399.py\u001b[0m in \u001b[0;36m<module>\u001b[1;34m\u001b[0m\n\u001b[0;32m      8\u001b[0m \u001b[1;33m\u001b[0m\u001b[0m\n\u001b[0;32m      9\u001b[0m \u001b[1;31m# Assurez-vous d'avoir les bons paramètres de domaine des pics et de calibration dans le fichier \"classe_analyse.py\".\u001b[0m\u001b[1;33m\u001b[0m\u001b[1;33m\u001b[0m\u001b[1;33m\u001b[0m\u001b[0m\n\u001b[1;32m---> 10\u001b[1;33m \u001b[0meau\u001b[0m \u001b[1;33m=\u001b[0m \u001b[0mCalibration\u001b[0m\u001b[1;33m(\u001b[0m\u001b[1;34m\"fichier_trait\\\\Vodka0_100s.TXT\"\u001b[0m\u001b[1;33m,\u001b[0m \u001b[1;34m\"Eau\"\u001b[0m\u001b[1;33m,\u001b[0m \u001b[0mcoupe\u001b[0m \u001b[1;33m=\u001b[0m \u001b[1;33m[\u001b[0m\u001b[1;36m280\u001b[0m\u001b[1;33m,\u001b[0m \u001b[1;33m-\u001b[0m\u001b[1;36m1\u001b[0m\u001b[1;33m]\u001b[0m\u001b[1;33m,\u001b[0m \u001b[0mconc\u001b[0m\u001b[1;33m=\u001b[0m\u001b[1;36m0\u001b[0m\u001b[1;33m,\u001b[0m \u001b[0mpente\u001b[0m\u001b[1;33m=\u001b[0m\u001b[1;32mTrue\u001b[0m\u001b[1;33m,\u001b[0m \u001b[0mzero\u001b[0m\u001b[1;33m=\u001b[0m\u001b[1;32mTrue\u001b[0m\u001b[1;33m)\u001b[0m\u001b[1;33m\u001b[0m\u001b[1;33m\u001b[0m\u001b[0m\n\u001b[0m\u001b[0;32m     11\u001b[0m \u001b[0methanol_25\u001b[0m \u001b[1;33m=\u001b[0m \u001b[0mEtalonnage\u001b[0m\u001b[1;33m(\u001b[0m\u001b[1;34m\"fichier_trait\\\\Ethanol_C25_100s.TXT\"\u001b[0m\u001b[1;33m,\u001b[0m \u001b[1;34m\"Ethanol à 25 %\"\u001b[0m\u001b[1;33m,\u001b[0m \u001b[0mconc\u001b[0m\u001b[1;33m=\u001b[0m\u001b[1;36m25\u001b[0m\u001b[1;33m,\u001b[0m \u001b[0mdomaine_pic\u001b[0m \u001b[1;33m=\u001b[0m \u001b[1;33m[\u001b[0m\u001b[1;36m880\u001b[0m\u001b[1;33m,\u001b[0m \u001b[1;36m900\u001b[0m\u001b[1;33m]\u001b[0m\u001b[1;33m,\u001b[0m \u001b[0mcoupe\u001b[0m \u001b[1;33m=\u001b[0m \u001b[1;33m[\u001b[0m\u001b[1;36m283\u001b[0m\u001b[1;33m,\u001b[0m \u001b[1;33m-\u001b[0m\u001b[1;36m1\u001b[0m\u001b[1;33m]\u001b[0m\u001b[1;33m,\u001b[0m \u001b[0mdivismin\u001b[0m \u001b[1;33m=\u001b[0m \u001b[1;36m2\u001b[0m\u001b[1;33m,\u001b[0m \u001b[0mmax_c\u001b[0m\u001b[1;33m=\u001b[0m\u001b[1;36m400\u001b[0m\u001b[1;33m,\u001b[0m \u001b[0mmax_p\u001b[0m\u001b[1;33m=\u001b[0m\u001b[1;36m600\u001b[0m\u001b[1;33m,\u001b[0m \u001b[0mpente\u001b[0m\u001b[1;33m=\u001b[0m\u001b[1;32mTrue\u001b[0m\u001b[1;33m,\u001b[0m \u001b[0mgraph\u001b[0m\u001b[1;33m=\u001b[0m\u001b[1;32mFalse\u001b[0m\u001b[1;33m)\u001b[0m\u001b[1;33m\u001b[0m\u001b[1;33m\u001b[0m\u001b[0m\n\u001b[0;32m     12\u001b[0m \u001b[0methanol_50\u001b[0m \u001b[1;33m=\u001b[0m \u001b[0mEtalonnage\u001b[0m\u001b[1;33m(\u001b[0m\u001b[1;34m\"fichier_trait\\\\Ethanol_C50_100s.TXT\"\u001b[0m\u001b[1;33m,\u001b[0m \u001b[1;34m\"Ethanol à 50 %\"\u001b[0m\u001b[1;33m,\u001b[0m \u001b[0mconc\u001b[0m\u001b[1;33m=\u001b[0m\u001b[1;36m50\u001b[0m\u001b[1;33m,\u001b[0m \u001b[0mdomaine_pic\u001b[0m \u001b[1;33m=\u001b[0m \u001b[1;33m[\u001b[0m\u001b[1;36m880\u001b[0m\u001b[1;33m,\u001b[0m \u001b[1;36m900\u001b[0m\u001b[1;33m]\u001b[0m\u001b[1;33m,\u001b[0m \u001b[0mcoupe\u001b[0m \u001b[1;33m=\u001b[0m \u001b[1;33m[\u001b[0m\u001b[1;36m280\u001b[0m\u001b[1;33m,\u001b[0m \u001b[1;33m-\u001b[0m\u001b[1;36m1\u001b[0m\u001b[1;33m]\u001b[0m\u001b[1;33m,\u001b[0m \u001b[0mdivismin\u001b[0m \u001b[1;33m=\u001b[0m \u001b[1;36m2\u001b[0m\u001b[1;33m,\u001b[0m \u001b[0mmax_c\u001b[0m\u001b[1;33m=\u001b[0m\u001b[1;36m800\u001b[0m\u001b[1;33m,\u001b[0m \u001b[0mmax_p\u001b[0m\u001b[1;33m=\u001b[0m\u001b[1;36m300\u001b[0m\u001b[1;33m,\u001b[0m \u001b[0mpente\u001b[0m\u001b[1;33m=\u001b[0m\u001b[1;32mTrue\u001b[0m\u001b[1;33m,\u001b[0m \u001b[0mgraph\u001b[0m\u001b[1;33m=\u001b[0m\u001b[1;32mFalse\u001b[0m\u001b[1;33m)\u001b[0m\u001b[1;33m\u001b[0m\u001b[1;33m\u001b[0m\u001b[0m\n",
      "\u001b[1;31mNameError\u001b[0m: name 'Calibration' is not defined"
     ]
    }
   ],
   "source": [
    "c_1 = 41 * 0.37 / (0.37 + 1 + 1 + 0.634)\n",
    "c_2 = 41 * 0.732 / (1 + 1 + 0.268 + 0.732)\n",
    "c_3 = 41 * 1.462 / (1 + 0.462 + 1 + 0.537)\n",
    "c_4 = 41 * 1.098 / (1 + 0.098 + 1 + 0.907)\n",
    "c_5 = 41 * 2.195 / (1 + 1 + 0.195 + 0.805)\n",
    "c_6 = 41\n",
    "c_33 = 31.7 / 3\n",
    "\n",
    "# Assurez-vous d'avoir les bons paramètres de domaine des pics et de calibration dans le fichier \"classe_analyse.py\".\n",
    "eau = Calibration(\"fichier_trait\\\\Vodka0_100s.TXT\", \"Eau\", coupe = [280, -1], conc=0, pente=True, zero=True)\n",
    "ethanol_25 = Etalonnage(\"fichier_trait\\\\Ethanol_C25_100s.TXT\", \"Ethanol à 25 %\", conc=25, domaine_pic = [880, 900], coupe = [283, -1], divismin = 2, max_c=400, max_p=600, pente=True, graph=False)\n",
    "ethanol_50 = Etalonnage(\"fichier_trait\\\\Ethanol_C50_100s.TXT\", \"Ethanol à 50 %\", conc=50, domaine_pic = [880, 900], coupe = [280, -1], divismin = 2, max_c=800, max_p=300, pente=True, graph=False)\n",
    "ethanol_75 = Etalonnage(\"fichier_trait\\\\Ethanol_C75_100s.TXT\", \"Ethanol à 75 %\", conc=75, domaine_pic = [880, 900], coupe = [280, -1], divismin = 2, max_c=800, max_p=600, pente=True, graph=False)\n",
    "ethanol_100 = Etalonnage(\"fichier_trait\\\\Ethanol_C100_100s.TXT\", \"Ethanol à 100 %\", conc=100, domaine_pic = [880, 900], coupe = [280, -1], divismin = 2.5, max_c=800, max_p=170, pente=True, graph=False)\n",
    "Etalonnage.graphique_combiné_ethanolage()\n",
    "\n",
    "vodka_05 = Echantillons(\"fichier_trait\\\\Vodka1_100s.TXT\", \"Vodka à 5%\", d=5, domaine_pic = [880, 900], coupe = [280, -1], max_c=70, max_p=50, pente=True, graph=False)\n",
    "vodka_10 = Echantillons(\"fichier_trait\\\\Vodka2_100s.TXT\", \"Vodka à 10%\", d=5, domaine_pic = [880, 900], coupe = [280, -1], max_c=100, max_p=50, pente=True, graph=True)\n",
    "vodka_20 = Echantillons(\"fichier_trait\\\\Vodka3_100s.TXT\", \"Vodka à 20%\", d=5, domaine_pic = [880, 900], coupe = [280, -1], max_c=100, max_p=50, pente=True, graph=False)\n",
    "Echantillons.analyse()"
   ]
  }
 ],
 "metadata": {
  "kernelspec": {
   "display_name": "myproject",
   "language": "python",
   "name": "myproject"
  },
  "language_info": {
   "codemirror_mode": {
    "name": "ipython",
    "version": 3
   },
   "file_extension": ".py",
   "mimetype": "text/x-python",
   "name": "python",
   "nbconvert_exporter": "python",
   "pygments_lexer": "ipython3",
   "version": "3.8.10"
  },
  "orig_nbformat": 4
 },
 "nbformat": 4,
 "nbformat_minor": 2
}

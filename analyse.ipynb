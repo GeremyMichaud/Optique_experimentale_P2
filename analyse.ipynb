{
 "cells": [
  {
   "cell_type": "code",
   "execution_count": 25,
   "metadata": {},
   "outputs": [
    {
     "name": "stderr",
     "output_type": "stream",
     "text": [
      "[NbConvertApp] Converting notebook class_analyze.ipynb to python\n",
      "[NbConvertApp] Writing 144088 bytes to class_analyze.py\n"
     ]
    }
   ],
   "source": [
    "! jupyter nbconvert class_analyze.ipynb --to python\n",
    "from class_analyze import Calibration, Samples"
   ]
  },
  {
   "cell_type": "code",
   "execution_count": 26,
   "metadata": {},
   "outputs": [
    {
     "ename": "ValueError",
     "evalue": "A value in x_new is below the interpolation range.",
     "output_type": "error",
     "traceback": [
      "\u001b[1;31m---------------------------------------------------------------------------\u001b[0m",
      "\u001b[1;31mValueError\u001b[0m                                Traceback (most recent call last)",
      "\u001b[1;32mC:\\Users\\GRMY~1\\AppData\\Local\\Temp/ipykernel_18168/3490281925.py\u001b[0m in \u001b[0;36m<module>\u001b[1;34m\u001b[0m\n\u001b[0;32m      1\u001b[0m \u001b[1;31m# Assurez-vous d'avoir les bons paramètres de domaine des pics et de calibration dans le fichier \"classe_analyse.py\".\u001b[0m\u001b[1;33m\u001b[0m\u001b[1;33m\u001b[0m\u001b[1;33m\u001b[0m\u001b[0m\n\u001b[0;32m      2\u001b[0m \u001b[0meau\u001b[0m \u001b[1;33m=\u001b[0m \u001b[0mCalibration\u001b[0m\u001b[1;33m(\u001b[0m\u001b[1;34m\"fichier_trait\\\\Vodka0_100s.TXT\"\u001b[0m\u001b[1;33m,\u001b[0m \u001b[1;34m\"Eau\"\u001b[0m\u001b[1;33m,\u001b[0m \u001b[0mcoupe\u001b[0m \u001b[1;33m=\u001b[0m \u001b[1;33m[\u001b[0m\u001b[1;36m280\u001b[0m\u001b[1;33m,\u001b[0m \u001b[1;33m-\u001b[0m\u001b[1;36m1\u001b[0m\u001b[1;33m]\u001b[0m\u001b[1;33m,\u001b[0m \u001b[0mconc\u001b[0m\u001b[1;33m=\u001b[0m\u001b[1;36m0\u001b[0m\u001b[1;33m,\u001b[0m \u001b[0mpente\u001b[0m\u001b[1;33m=\u001b[0m\u001b[1;32mTrue\u001b[0m\u001b[1;33m,\u001b[0m \u001b[0mzero\u001b[0m\u001b[1;33m=\u001b[0m\u001b[1;32mTrue\u001b[0m\u001b[1;33m)\u001b[0m\u001b[1;33m\u001b[0m\u001b[1;33m\u001b[0m\u001b[0m\n\u001b[1;32m----> 3\u001b[1;33m \u001b[0methanol_25\u001b[0m \u001b[1;33m=\u001b[0m \u001b[0mCalibration\u001b[0m\u001b[1;33m(\u001b[0m\u001b[1;34m\"fichier_trait\\\\Ethanol_C25_100s.TXT\"\u001b[0m\u001b[1;33m,\u001b[0m \u001b[1;34m\"Ethanol à 25 %\"\u001b[0m\u001b[1;33m,\u001b[0m \u001b[0mconc\u001b[0m\u001b[1;33m=\u001b[0m\u001b[1;36m25\u001b[0m\u001b[1;33m,\u001b[0m \u001b[0mdomaine_pic\u001b[0m \u001b[1;33m=\u001b[0m \u001b[1;33m[\u001b[0m\u001b[1;36m880\u001b[0m\u001b[1;33m,\u001b[0m \u001b[1;36m900\u001b[0m\u001b[1;33m]\u001b[0m\u001b[1;33m,\u001b[0m \u001b[0mcoupe\u001b[0m \u001b[1;33m=\u001b[0m \u001b[1;33m[\u001b[0m\u001b[1;36m283\u001b[0m\u001b[1;33m,\u001b[0m \u001b[1;33m-\u001b[0m\u001b[1;36m1\u001b[0m\u001b[1;33m]\u001b[0m\u001b[1;33m,\u001b[0m \u001b[0mdivismin\u001b[0m \u001b[1;33m=\u001b[0m \u001b[1;36m2\u001b[0m\u001b[1;33m,\u001b[0m \u001b[0mmax_c\u001b[0m\u001b[1;33m=\u001b[0m\u001b[1;36m400\u001b[0m\u001b[1;33m,\u001b[0m \u001b[0mmax_p\u001b[0m\u001b[1;33m=\u001b[0m\u001b[1;36m600\u001b[0m\u001b[1;33m,\u001b[0m \u001b[0mpente\u001b[0m\u001b[1;33m=\u001b[0m\u001b[1;32mTrue\u001b[0m\u001b[1;33m,\u001b[0m \u001b[0mgraph\u001b[0m\u001b[1;33m=\u001b[0m\u001b[1;32mFalse\u001b[0m\u001b[1;33m)\u001b[0m\u001b[1;33m\u001b[0m\u001b[1;33m\u001b[0m\u001b[0m\n\u001b[0m\u001b[0;32m      4\u001b[0m \u001b[0methanol_50\u001b[0m \u001b[1;33m=\u001b[0m \u001b[0mCalibration\u001b[0m\u001b[1;33m(\u001b[0m\u001b[1;34m\"fichier_trait\\\\Ethanol_C50_100s.TXT\"\u001b[0m\u001b[1;33m,\u001b[0m \u001b[1;34m\"Ethanol à 50 %\"\u001b[0m\u001b[1;33m,\u001b[0m \u001b[0mconc\u001b[0m\u001b[1;33m=\u001b[0m\u001b[1;36m50\u001b[0m\u001b[1;33m,\u001b[0m \u001b[0mdomaine_pic\u001b[0m \u001b[1;33m=\u001b[0m \u001b[1;33m[\u001b[0m\u001b[1;36m880\u001b[0m\u001b[1;33m,\u001b[0m \u001b[1;36m900\u001b[0m\u001b[1;33m]\u001b[0m\u001b[1;33m,\u001b[0m \u001b[0mcoupe\u001b[0m \u001b[1;33m=\u001b[0m \u001b[1;33m[\u001b[0m\u001b[1;36m280\u001b[0m\u001b[1;33m,\u001b[0m \u001b[1;33m-\u001b[0m\u001b[1;36m1\u001b[0m\u001b[1;33m]\u001b[0m\u001b[1;33m,\u001b[0m \u001b[0mdivismin\u001b[0m \u001b[1;33m=\u001b[0m \u001b[1;36m2\u001b[0m\u001b[1;33m,\u001b[0m \u001b[0mmax_c\u001b[0m\u001b[1;33m=\u001b[0m\u001b[1;36m800\u001b[0m\u001b[1;33m,\u001b[0m \u001b[0mmax_p\u001b[0m\u001b[1;33m=\u001b[0m\u001b[1;36m300\u001b[0m\u001b[1;33m,\u001b[0m \u001b[0mpente\u001b[0m\u001b[1;33m=\u001b[0m\u001b[1;32mTrue\u001b[0m\u001b[1;33m,\u001b[0m \u001b[0mgraph\u001b[0m\u001b[1;33m=\u001b[0m\u001b[1;32mFalse\u001b[0m\u001b[1;33m)\u001b[0m\u001b[1;33m\u001b[0m\u001b[1;33m\u001b[0m\u001b[0m\n\u001b[0;32m      5\u001b[0m \u001b[0methanol_75\u001b[0m \u001b[1;33m=\u001b[0m \u001b[0mCalibration\u001b[0m\u001b[1;33m(\u001b[0m\u001b[1;34m\"fichier_trait\\\\Ethanol_C75_100s.TXT\"\u001b[0m\u001b[1;33m,\u001b[0m \u001b[1;34m\"Ethanol à 75 %\"\u001b[0m\u001b[1;33m,\u001b[0m \u001b[0mconc\u001b[0m\u001b[1;33m=\u001b[0m\u001b[1;36m75\u001b[0m\u001b[1;33m,\u001b[0m \u001b[0mdomaine_pic\u001b[0m \u001b[1;33m=\u001b[0m \u001b[1;33m[\u001b[0m\u001b[1;36m880\u001b[0m\u001b[1;33m,\u001b[0m \u001b[1;36m900\u001b[0m\u001b[1;33m]\u001b[0m\u001b[1;33m,\u001b[0m \u001b[0mcoupe\u001b[0m \u001b[1;33m=\u001b[0m \u001b[1;33m[\u001b[0m\u001b[1;36m280\u001b[0m\u001b[1;33m,\u001b[0m \u001b[1;33m-\u001b[0m\u001b[1;36m1\u001b[0m\u001b[1;33m]\u001b[0m\u001b[1;33m,\u001b[0m \u001b[0mdivismin\u001b[0m \u001b[1;33m=\u001b[0m \u001b[1;36m2\u001b[0m\u001b[1;33m,\u001b[0m \u001b[0mmax_c\u001b[0m\u001b[1;33m=\u001b[0m\u001b[1;36m800\u001b[0m\u001b[1;33m,\u001b[0m \u001b[0mmax_p\u001b[0m\u001b[1;33m=\u001b[0m\u001b[1;36m600\u001b[0m\u001b[1;33m,\u001b[0m \u001b[0mpente\u001b[0m\u001b[1;33m=\u001b[0m\u001b[1;32mTrue\u001b[0m\u001b[1;33m,\u001b[0m \u001b[0mgraph\u001b[0m\u001b[1;33m=\u001b[0m\u001b[1;32mFalse\u001b[0m\u001b[1;33m)\u001b[0m\u001b[1;33m\u001b[0m\u001b[1;33m\u001b[0m\u001b[0m\n",
      "\u001b[1;32mc:\\Users\\Gérémy\\Documents\\GitHub\\Optique_experimentale_P2\\class_analyze.py\u001b[0m in \u001b[0;36m__init__\u001b[1;34m(self, fichier, nom, zero, conc, d, coupe, s, max_c, divismin, max_p, pente, domaine_pic, Eau, graph, rawdog, balance)\u001b[0m\n\u001b[0;32m    185\u001b[0m             \u001b[0mself\u001b[0m\u001b[1;33m.\u001b[0m\u001b[0mpic_max\u001b[0m\u001b[1;33m(\u001b[0m\u001b[1;33m)\u001b[0m\u001b[1;33m\u001b[0m\u001b[1;33m\u001b[0m\u001b[0m\n\u001b[0;32m    186\u001b[0m \u001b[1;33m\u001b[0m\u001b[0m\n\u001b[1;32m--> 187\u001b[1;33m             \u001b[1;31m#affichage des graphiques aidant à la compréhension et à la sélection des bons paramètres lim, p et divismin\u001b[0m\u001b[1;33m\u001b[0m\u001b[1;33m\u001b[0m\u001b[1;33m\u001b[0m\u001b[0m\n\u001b[0m\u001b[0;32m    188\u001b[0m             \u001b[1;32mif\u001b[0m \u001b[0mgraph\u001b[0m\u001b[1;33m:\u001b[0m\u001b[1;33m\u001b[0m\u001b[1;33m\u001b[0m\u001b[0m\n\u001b[0;32m    189\u001b[0m                 \u001b[0mself\u001b[0m\u001b[1;33m.\u001b[0m\u001b[0mgraphique_selection\u001b[0m\u001b[1;33m(\u001b[0m\u001b[1;33m)\u001b[0m\u001b[1;33m\u001b[0m\u001b[1;33m\u001b[0m\u001b[0m\n",
      "\u001b[1;32mc:\\Users\\Gérémy\\Documents\\GitHub\\Optique_experimentale_P2\\class_analyze.py\u001b[0m in \u001b[0;36menlever_bruit\u001b[1;34m(self, max_c, divismin, max_p)\u001b[0m\n\u001b[0;32m    271\u001b[0m         \"\"\"\"\n\u001b[0;32m    272\u001b[0m         \u001b[0mTrouve\u001b[0m \u001b[0mla\u001b[0m \u001b[0mhauteur\u001b[0m \u001b[0mdu\u001b[0m \u001b[0mpic\u001b[0m \u001b[0mdans\u001b[0m \u001b[0mla\u001b[0m \u001b[0mplage\u001b[0m \u001b[0mdonnée\u001b[0m \u001b[0met\u001b[0m \u001b[0msa\u001b[0m \u001b[0mposition\u001b[0m\u001b[1;33m.\u001b[0m \u001b[0mCrée\u001b[0m \u001b[0mune\u001b[0m \u001b[0mentrée\u001b[0m \u001b[0mde\u001b[0m \u001b[0mdictionnaire\u001b[0m \u001b[0mde\u001b[0m \u001b[0mconcentration\u001b[0m\u001b[1;33m\u001b[0m\u001b[1;33m\u001b[0m\u001b[0m\n\u001b[1;32m--> 273\u001b[1;33m         \u001b[0mavec\u001b[0m \u001b[0mcomme\u001b[0m \u001b[0mclé\u001b[0m \u001b[0mle\u001b[0m \u001b[0mnom\u001b[0m \u001b[0mspécifié\u001b[0m \u001b[0mlors\u001b[0m \u001b[0mde\u001b[0m \u001b[0ml\u001b[0m\u001b[0;31m'\u001b[0m\u001b[0minitialisation\u001b[0m\u001b[1;33m.\u001b[0m \u001b[0mCette\u001b[0m \u001b[0mentrée\u001b[0m \u001b[0mest\u001b[0m \u001b[0mune\u001b[0m \u001b[0mliste\u001b[0m \u001b[0mcontenant\u001b[0m \u001b[0mla\u001b[0m \u001b[0mconcentration\u001b[0m\u001b[1;33m,\u001b[0m\u001b[1;33m\u001b[0m\u001b[1;33m\u001b[0m\u001b[0m\n\u001b[0m\u001b[0;32m    274\u001b[0m         \u001b[0mla\u001b[0m \u001b[0mhauteur\u001b[0m \u001b[0mdu\u001b[0m \u001b[0mpic\u001b[0m\u001b[1;33m,\u001b[0m \u001b[0msa\u001b[0m \u001b[0mposition\u001b[0m\u001b[1;33m,\u001b[0m  \u001b[0ml\u001b[0m\u001b[1;34m'incertitude, les données en x, les données en y et l'\u001b[0m\u001b[0mintervale\u001b[0m \u001b[0mde\u001b[0m \u001b[0mrecherche\u001b[0m \u001b[0mpour\u001b[0m \u001b[0mle\u001b[0m \u001b[0mpic\u001b[0m \u001b[0mmax\u001b[0m \u001b[1;33m.\u001b[0m\u001b[1;33m\u001b[0m\u001b[1;33m\u001b[0m\u001b[0m\n\u001b[0;32m    275\u001b[0m \u001b[1;33m\u001b[0m\u001b[0m\n",
      "\u001b[1;32m~\\AppData\\Local\\Packages\\PythonSoftwareFoundation.Python.3.8_qbz5n2kfra8p0\\LocalCache\\local-packages\\Python38\\site-packages\\scipy\\interpolate\\_polyint.py\u001b[0m in \u001b[0;36m__call__\u001b[1;34m(self, x)\u001b[0m\n\u001b[0;32m     76\u001b[0m         \"\"\"\n\u001b[0;32m     77\u001b[0m         \u001b[0mx\u001b[0m\u001b[1;33m,\u001b[0m \u001b[0mx_shape\u001b[0m \u001b[1;33m=\u001b[0m \u001b[0mself\u001b[0m\u001b[1;33m.\u001b[0m\u001b[0m_prepare_x\u001b[0m\u001b[1;33m(\u001b[0m\u001b[0mx\u001b[0m\u001b[1;33m)\u001b[0m\u001b[1;33m\u001b[0m\u001b[1;33m\u001b[0m\u001b[0m\n\u001b[1;32m---> 78\u001b[1;33m         \u001b[0my\u001b[0m \u001b[1;33m=\u001b[0m \u001b[0mself\u001b[0m\u001b[1;33m.\u001b[0m\u001b[0m_evaluate\u001b[0m\u001b[1;33m(\u001b[0m\u001b[0mx\u001b[0m\u001b[1;33m)\u001b[0m\u001b[1;33m\u001b[0m\u001b[1;33m\u001b[0m\u001b[0m\n\u001b[0m\u001b[0;32m     79\u001b[0m         \u001b[1;32mreturn\u001b[0m \u001b[0mself\u001b[0m\u001b[1;33m.\u001b[0m\u001b[0m_finish_y\u001b[0m\u001b[1;33m(\u001b[0m\u001b[0my\u001b[0m\u001b[1;33m,\u001b[0m \u001b[0mx_shape\u001b[0m\u001b[1;33m)\u001b[0m\u001b[1;33m\u001b[0m\u001b[1;33m\u001b[0m\u001b[0m\n\u001b[0;32m     80\u001b[0m \u001b[1;33m\u001b[0m\u001b[0m\n",
      "\u001b[1;32m~\\AppData\\Local\\Packages\\PythonSoftwareFoundation.Python.3.8_qbz5n2kfra8p0\\LocalCache\\local-packages\\Python38\\site-packages\\scipy\\interpolate\\_interpolate.py\u001b[0m in \u001b[0;36m_evaluate\u001b[1;34m(self, x_new)\u001b[0m\n\u001b[0;32m    705\u001b[0m         \u001b[0my_new\u001b[0m \u001b[1;33m=\u001b[0m \u001b[0mself\u001b[0m\u001b[1;33m.\u001b[0m\u001b[0m_call\u001b[0m\u001b[1;33m(\u001b[0m\u001b[0mself\u001b[0m\u001b[1;33m,\u001b[0m \u001b[0mx_new\u001b[0m\u001b[1;33m)\u001b[0m\u001b[1;33m\u001b[0m\u001b[1;33m\u001b[0m\u001b[0m\n\u001b[0;32m    706\u001b[0m         \u001b[1;32mif\u001b[0m \u001b[1;32mnot\u001b[0m \u001b[0mself\u001b[0m\u001b[1;33m.\u001b[0m\u001b[0m_extrapolate\u001b[0m\u001b[1;33m:\u001b[0m\u001b[1;33m\u001b[0m\u001b[1;33m\u001b[0m\u001b[0m\n\u001b[1;32m--> 707\u001b[1;33m             \u001b[0mbelow_bounds\u001b[0m\u001b[1;33m,\u001b[0m \u001b[0mabove_bounds\u001b[0m \u001b[1;33m=\u001b[0m \u001b[0mself\u001b[0m\u001b[1;33m.\u001b[0m\u001b[0m_check_bounds\u001b[0m\u001b[1;33m(\u001b[0m\u001b[0mx_new\u001b[0m\u001b[1;33m)\u001b[0m\u001b[1;33m\u001b[0m\u001b[1;33m\u001b[0m\u001b[0m\n\u001b[0m\u001b[0;32m    708\u001b[0m             \u001b[1;32mif\u001b[0m \u001b[0mlen\u001b[0m\u001b[1;33m(\u001b[0m\u001b[0my_new\u001b[0m\u001b[1;33m)\u001b[0m \u001b[1;33m>\u001b[0m \u001b[1;36m0\u001b[0m\u001b[1;33m:\u001b[0m\u001b[1;33m\u001b[0m\u001b[1;33m\u001b[0m\u001b[0m\n\u001b[0;32m    709\u001b[0m                 \u001b[1;31m# Note fill_value must be broadcast up to the proper size\u001b[0m\u001b[1;33m\u001b[0m\u001b[1;33m\u001b[0m\u001b[1;33m\u001b[0m\u001b[0m\n",
      "\u001b[1;32m~\\AppData\\Local\\Packages\\PythonSoftwareFoundation.Python.3.8_qbz5n2kfra8p0\\LocalCache\\local-packages\\Python38\\site-packages\\scipy\\interpolate\\_interpolate.py\u001b[0m in \u001b[0;36m_check_bounds\u001b[1;34m(self, x_new)\u001b[0m\n\u001b[0;32m    734\u001b[0m         \u001b[1;31m# !! Could provide more information about which values are out of bounds\u001b[0m\u001b[1;33m\u001b[0m\u001b[1;33m\u001b[0m\u001b[1;33m\u001b[0m\u001b[0m\n\u001b[0;32m    735\u001b[0m         \u001b[1;32mif\u001b[0m \u001b[0mself\u001b[0m\u001b[1;33m.\u001b[0m\u001b[0mbounds_error\u001b[0m \u001b[1;32mand\u001b[0m \u001b[0mbelow_bounds\u001b[0m\u001b[1;33m.\u001b[0m\u001b[0many\u001b[0m\u001b[1;33m(\u001b[0m\u001b[1;33m)\u001b[0m\u001b[1;33m:\u001b[0m\u001b[1;33m\u001b[0m\u001b[1;33m\u001b[0m\u001b[0m\n\u001b[1;32m--> 736\u001b[1;33m             raise ValueError(\"A value in x_new is below the interpolation \"\n\u001b[0m\u001b[0;32m    737\u001b[0m                              \"range.\")\n\u001b[0;32m    738\u001b[0m         \u001b[1;32mif\u001b[0m \u001b[0mself\u001b[0m\u001b[1;33m.\u001b[0m\u001b[0mbounds_error\u001b[0m \u001b[1;32mand\u001b[0m \u001b[0mabove_bounds\u001b[0m\u001b[1;33m.\u001b[0m\u001b[0many\u001b[0m\u001b[1;33m(\u001b[0m\u001b[1;33m)\u001b[0m\u001b[1;33m:\u001b[0m\u001b[1;33m\u001b[0m\u001b[1;33m\u001b[0m\u001b[0m\n",
      "\u001b[1;31mValueError\u001b[0m: A value in x_new is below the interpolation range."
     ]
    }
   ],
   "source": [
    "# Assurez-vous d'avoir les bons paramètres de domaine des pics et de calibration dans le fichier \"classe_analyse.py\".\n",
    "eau = Calibration(\"fichier_trait\\\\Vodka0_100s.TXT\", \"Eau\", coupe = [280, -1], conc=0, pente=True, zero=True)\n",
    "ethanol_25 = Calibration(\"fichier_trait\\\\Ethanol_C25_100s.TXT\", \"Ethanol à 25 %\", conc=25, domaine_pic = [880, 900], coupe = [283, -1], divismin = 2, max_c=400, max_p=600, pente=True, graph=False)\n",
    "ethanol_50 = Calibration(\"fichier_trait\\\\Ethanol_C50_100s.TXT\", \"Ethanol à 50 %\", conc=50, domaine_pic = [880, 900], coupe = [280, -1], divismin = 2, max_c=800, max_p=300, pente=True, graph=False)\n",
    "ethanol_75 = Calibration(\"fichier_trait\\\\Ethanol_C75_100s.TXT\", \"Ethanol à 75 %\", conc=75, domaine_pic = [880, 900], coupe = [280, -1], divismin = 2, max_c=800, max_p=600, pente=True, graph=False)\n",
    "ethanol_100 = Calibration(\"fichier_trait\\\\Ethanol_C100_100s.TXT\", \"Ethanol à 100 %\", conc=100, domaine_pic = [880, 900], coupe = [280, -1], divismin = 2.5, max_c=800, max_p=170, pente=True, graph=False)\n",
    "Calibration.graphique_combine_ethanolage()\n",
    "\n",
    "vodka_05 = Samples(\"fichier_trait\\\\Vodka1_100s.TXT\", \"Vodka à 5%\", d=5, domaine_pic = [880, 900], coupe = [280, -1], max_c=70, max_p=50, pente=True, graph=False)\n",
    "vodka_10 = Samples(\"fichier_trait\\\\Vodka2_100s.TXT\", \"Vodka à 10%\", d=5, domaine_pic = [880, 900], coupe = [280, -1], max_c=100, max_p=50, pente=True, graph=True)\n",
    "vodka_20 = Samples(\"fichier_trait\\\\Vodka3_100s.TXT\", \"Vodka à 20%\", d=5, domaine_pic = [880, 900], coupe = [280, -1], max_c=100, max_p=50, pente=True, graph=False)\n",
    "Samples.analyse()"
   ]
  }
 ],
 "metadata": {
  "kernelspec": {
   "display_name": "myproject",
   "language": "python",
   "name": "myproject"
  },
  "language_info": {
   "codemirror_mode": {
    "name": "ipython",
    "version": 3
   },
   "file_extension": ".py",
   "mimetype": "text/x-python",
   "name": "python",
   "nbconvert_exporter": "python",
   "pygments_lexer": "ipython3",
   "version": "3.8.10"
  },
  "orig_nbformat": 4
 },
 "nbformat": 4,
 "nbformat_minor": 2
}
